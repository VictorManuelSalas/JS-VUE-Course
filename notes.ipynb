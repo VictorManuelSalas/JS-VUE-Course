{
 "cells": [
  {
   "attachments": {},
   "cell_type": "markdown",
   "metadata": {},
   "source": [
    "## Subir aplicaciones a produccion\n",
    "\n",
    "Pasos ha seguir para subir nuestra aplicación a un servidor:\n",
    "        \n",
    "        1.- Correr el comando -> npm run build\n",
    "        2.- Entrar a -> https://www.netlify.com/\n",
    "        3.- Crear cuenta e ingresar\n",
    "        4.- Acceder al apartado de sites y "
   ]
  }
 ],
 "metadata": {
  "language_info": {
   "name": "python"
  },
  "orig_nbformat": 4
 },
 "nbformat": 4,
 "nbformat_minor": 2
}
